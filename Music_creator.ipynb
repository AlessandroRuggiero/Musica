{
  "nbformat": 4,
  "nbformat_minor": 0,
  "metadata": {
    "colab": {
      "name": "Music creator.ipynb",
      "provenance": [],
      "collapsed_sections": []
    },
    "kernelspec": {
      "name": "python3",
      "display_name": "Python 3"
    },
    "accelerator": "GPU"
  },
  "cells": [
    {
      "cell_type": "code",
      "metadata": {
        "id": "RZHbf-Zqv0x1",
        "colab_type": "code",
        "outputId": "6297e4b7-daed-4969-9bcb-5b6522446b11",
        "colab": {
          "base_uri": "https://localhost:8080/",
          "height": 34
        }
      },
      "source": [
        "import pickle\n",
        "import os\n",
        "import time\n",
        "import numpy as np\n",
        "from music21 import instrument, note, stream, chord\n",
        "from keras.models import Sequential\n",
        "from keras.layers import Dense, LSTM, Dropout, Activation\n",
        "from keras.layers import BatchNormalization as BatchNorm\n",
        "from google.colab import files as fd\n",
        "from zipfile import ZipFile"
      ],
      "execution_count": 0,
      "outputs": [
        {
          "output_type": "stream",
          "text": [
            "Using TensorFlow backend.\n"
          ],
          "name": "stderr"
        }
      ]
    },
    {
      "cell_type": "code",
      "metadata": {
        "id": "SJs9ZSguwPa1",
        "colab_type": "code",
        "colab": {}
      },
      "source": [
        "def get_notes ():\n",
        "  ''' carica le note dal file '''\n",
        "  with open ('data/notes','rb') as f:\n",
        "    notes = pickle.load(f)\n",
        "  return notes, len(set(notes))"
      ],
      "execution_count": 0,
      "outputs": []
    },
    {
      "cell_type": "code",
      "metadata": {
        "id": "2Ww8-kOXyFBq",
        "colab_type": "code",
        "colab": {}
      },
      "source": [
        "def prepara_sequenza (notes,pitchnames,n_vocab):\n",
        "  ''' prepara le sequenza per la rete di input per la rete neurale '''\n",
        "  # mappa\n",
        "  note_to_int = dict((note, number) for number, note in enumerate(pitchnames))\n",
        "  lunghezza_sequenza = 100\n",
        "  network_input = []\n",
        "  for i in range(0, len(notes) - lunghezza_sequenza, 1):\n",
        "    sequence_in = notes[i:i + lunghezza_sequenza]\n",
        "    sequence_out = notes[i + lunghezza_sequenza]\n",
        "    network_input.append([note_to_int[char] for char in sequence_in])\n",
        "  normalized_inputs = np.reshape (network_input,(len (network_input),lunghezza_sequenza,1))\n",
        "  normalized_inputs = normalized_inputs/float (n_vocab)\n",
        "  return network_input,normalized_inputs"
      ],
      "execution_count": 0,
      "outputs": []
    },
    {
      "cell_type": "code",
      "metadata": {
        "id": "26nLbyxpznJL",
        "colab_type": "code",
        "colab": {}
      },
      "source": [
        "def create_network(network_input, n_vocab,weights = None,model = None):\n",
        "  '''creazione rete neurale (carica i pesi delle connessioni)'''\n",
        "  if model is None:\n",
        "    model = Sequential()\n",
        "    model.add(LSTM(\n",
        "        512,\n",
        "        input_shape=(network_input.shape[1], network_input.shape[2]),\n",
        "        recurrent_dropout=0.3,return_sequences=True\n",
        "    ))\n",
        "    model.add(LSTM(512, return_sequences=True, recurrent_dropout=0.3,))\n",
        "    model.add(LSTM(512))\n",
        "    model.add(BatchNorm())\n",
        "    model.add(Dropout(0.3))\n",
        "    model.add(Dense(256))\n",
        "    model.add(Activation('relu'))\n",
        "    model.add(BatchNorm())\n",
        "    model.add(Dropout(0.3))\n",
        "    model.add(Dense(n_vocab))\n",
        "    model.add(Activation('softmax'))\n",
        "    model.compile(loss='categorical_crossentropy', optimizer='rmsprop')\n",
        "  if weights is not None:\n",
        "    model.load_weights (weights)\n",
        "  return model"
      ],
      "execution_count": 0,
      "outputs": []
    },
    {
      "cell_type": "code",
      "metadata": {
        "id": "roPbpBZf0NuO",
        "colab_type": "code",
        "colab": {}
      },
      "source": [
        "def genera_note (model,network_input,pitchnames,n_vocab,l = 500):\n",
        "  ''' Fa generare alla rete deurale delle note; il brano ha lunghezza l '''\n",
        "  start = np.random.randint(0, len(network_input)-1)\n",
        "  # mappa\n",
        "  int_to_note = dict((number, note) for number, note in enumerate(pitchnames))\n",
        "  pattern = network_input[start]\n",
        "  prediction_output = []\n",
        "  for _ in range (l):\n",
        "    prediction_input = np.reshape(pattern, (1, len(pattern), 1))\n",
        "    prediction_input = prediction_input / float(n_vocab)\n",
        "    prediction = model.predict(prediction_input, verbose=0)\n",
        "    index = np.argmax(prediction)\n",
        "    result = int_to_note[index]\n",
        "    prediction_output.append(result)\n",
        "    pattern.append(index)\n",
        "    pattern = pattern[1:len(pattern)]\n",
        "  return prediction_output"
      ],
      "execution_count": 0,
      "outputs": []
    },
    {
      "cell_type": "code",
      "metadata": {
        "id": "OCxYx4yU1zMs",
        "colab_type": "code",
        "colab": {}
      },
      "source": [
        "def salva_in_midi (prediction_output,name = 'test'):\n",
        "  \"\"\" converte gli output della rete neurale in midi files \"\"\"\n",
        "  offset = 0\n",
        "  output_notes = []\n",
        "  for pattern in prediction_output:\n",
        "      # il pattern è un accordo\n",
        "      if ('.' in pattern) or pattern.isdigit():\n",
        "          notes_in_chord = pattern.split('.')\n",
        "          notes = []\n",
        "          for nota in notes_in_chord:\n",
        "              new_note = note.Note(int(nota))\n",
        "              new_note.storedInstrument = instrument.Piano()\n",
        "              notes.append(new_note)\n",
        "          new_chord = chord.Chord(notes)\n",
        "          new_chord.offset = offset\n",
        "          output_notes.append(new_chord)\n",
        "      # il pattern è una nota\n",
        "      else:\n",
        "          new_note = note.Note(pattern)\n",
        "          new_note.offset = offset\n",
        "          new_note.storedInstrument = instrument.Piano()\n",
        "          output_notes.append(new_note)\n",
        "      # per non far accavallare le note\n",
        "      offset += 0.5\n",
        "  midi_stream = stream.Stream(output_notes)\n",
        "  midi_stream.write('midi', fp=f'{name}.mid')"
      ],
      "execution_count": 0,
      "outputs": []
    },
    {
      "cell_type": "code",
      "metadata": {
        "id": "f5xeMPaa23OP",
        "colab_type": "code",
        "colab": {}
      },
      "source": [
        "def scrivi_brani (model_name,lunghezza = 500,nome_files = ['test'],model = None,rm = False):\n",
        "  notes,n_vocab = get_notes()\n",
        "  pitchnames = sorted(set(item for item in notes))\n",
        "  network_input, normalized_input = prepara_sequenza (notes,pitchnames,n_vocab)\n",
        "  model = create_network (normalized_input,n_vocab,model_name,model)\n",
        "  for i in range (len (nome_files)):\n",
        "    prediction_output = genera_note(model, network_input, pitchnames, n_vocab,lunghezza)\n",
        "    salva_in_midi (prediction_output,nome_files[i])\n",
        "  if rm:\n",
        "    return model"
      ],
      "execution_count": 0,
      "outputs": []
    },
    {
      "cell_type": "code",
      "metadata": {
        "id": "BAGN4CAw3-Mk",
        "colab_type": "code",
        "colab": {}
      },
      "source": [
        "PATH = \"drive/My Drive/path\"\n",
        "FORMATTAZIONE = 'T: {} epoch: {} brano: {}'\n",
        "T = 0"
      ],
      "execution_count": 0,
      "outputs": []
    },
    {
      "cell_type": "code",
      "metadata": {
        "id": "oXIpHLbkO8Yx",
        "colab_type": "code",
        "colab": {}
      },
      "source": [
        "def orderer (name):\n",
        "  if name == '.ipynb_checkpoints':\n",
        "    return -1\n",
        "  n = int (name[2])\n",
        "  name = name[12:]\n",
        "  epoch = name[:3]\n",
        "  if epoch[-1] not in '1234567890':\n",
        "    epoch = epoch[:2]\n",
        "  return int (epoch) + n*155"
      ],
      "execution_count": 0,
      "outputs": []
    },
    {
      "cell_type": "code",
      "metadata": {
        "id": "aSdrdbtEw_Ri",
        "colab_type": "code",
        "colab": {}
      },
      "source": [
        "model = scrivi_brani (None,nome_files=['generazione'],rm = True)"
      ],
      "execution_count": 0,
      "outputs": []
    },
    {
      "cell_type": "code",
      "metadata": {
        "id": "acBVkik-xt_F",
        "colab_type": "code",
        "outputId": "a4cf0887-4a2b-432a-b6ac-f65c38a5e367",
        "colab": {
          "base_uri": "https://localhost:8080/",
          "height": 527
        }
      },
      "source": [
        "model.summary()"
      ],
      "execution_count": 0,
      "outputs": [
        {
          "output_type": "stream",
          "text": [
            "Model: \"sequential_1\"\n",
            "_________________________________________________________________\n",
            "Layer (type)                 Output Shape              Param #   \n",
            "=================================================================\n",
            "lstm_1 (LSTM)                (None, 100, 512)          1052672   \n",
            "_________________________________________________________________\n",
            "lstm_2 (LSTM)                (None, 100, 512)          2099200   \n",
            "_________________________________________________________________\n",
            "lstm_3 (LSTM)                (None, 512)               2099200   \n",
            "_________________________________________________________________\n",
            "batch_normalization_1 (Batch (None, 512)               2048      \n",
            "_________________________________________________________________\n",
            "dropout_1 (Dropout)          (None, 512)               0         \n",
            "_________________________________________________________________\n",
            "dense_1 (Dense)              (None, 256)               131328    \n",
            "_________________________________________________________________\n",
            "activation_1 (Activation)    (None, 256)               0         \n",
            "_________________________________________________________________\n",
            "batch_normalization_2 (Batch (None, 256)               1024      \n",
            "_________________________________________________________________\n",
            "dropout_2 (Dropout)          (None, 256)               0         \n",
            "_________________________________________________________________\n",
            "dense_2 (Dense)              (None, 358)               92006     \n",
            "_________________________________________________________________\n",
            "activation_2 (Activation)    (None, 358)               0         \n",
            "=================================================================\n",
            "Total params: 5,477,478\n",
            "Trainable params: 5,475,942\n",
            "Non-trainable params: 1,536\n",
            "_________________________________________________________________\n"
          ],
          "name": "stdout"
        }
      ]
    },
    {
      "cell_type": "code",
      "metadata": {
        "id": "3nKtDZi74TnS",
        "colab_type": "code",
        "outputId": "70d992c6-1e87-4975-afc4-755ded2d267f",
        "colab": {
          "base_uri": "https://localhost:8080/",
          "height": 1000
        }
      },
      "source": [
        "for f in sorted(os.listdir(PATH),key = orderer):\n",
        "  if f == '.ipynb_checkpoints':\n",
        "    continue\n",
        "  i = orderer (f)\n",
        "  print (f'epoch: {i}')\n",
        "  molti = not i%5\n",
        "  files = [FORMATTAZIONE.format(T,i,j) for j in range (3)] if molti else [FORMATTAZIONE.format(T,i,0)]\n",
        "  scrivi_brani (os.path.join (PATH,f),nome_files=files,model = model,lunghezza = 300)\n",
        "  for f in files:\n",
        "    zipObj = ZipFile('history.zip', 'a')\n",
        "    zipObj.write(f+'.mid')\n",
        "    zipObj.close()"
      ],
      "execution_count": 0,
      "outputs": [
        {
          "output_type": "stream",
          "text": [
            "epoch: 1\n",
            "epoch: 1\n"
          ],
          "name": "stdout"
        },
        {
          "output_type": "stream",
          "text": [
            "/usr/lib/python3.6/zipfile.py:1378: UserWarning: Duplicate name: 'T: 0 epoch: 1 brano: 0.mid'\n",
            "  return self._open_to_write(zinfo, force_zip64=force_zip64)\n"
          ],
          "name": "stderr"
        },
        {
          "output_type": "stream",
          "text": [
            "epoch: 2\n",
            "epoch: 3\n",
            "epoch: 4\n",
            "epoch: 5\n",
            "epoch: 6\n",
            "epoch: 7\n",
            "epoch: 8\n",
            "epoch: 9\n",
            "epoch: 10\n",
            "epoch: 11\n",
            "epoch: 12\n",
            "epoch: 13\n",
            "epoch: 14\n",
            "epoch: 15\n",
            "epoch: 16\n",
            "epoch: 17\n",
            "epoch: 18\n",
            "epoch: 19\n",
            "epoch: 20\n",
            "epoch: 21\n",
            "epoch: 22\n",
            "epoch: 23\n",
            "epoch: 24\n",
            "epoch: 25\n",
            "epoch: 26\n",
            "epoch: 27\n",
            "epoch: 28\n",
            "epoch: 29\n",
            "epoch: 30\n",
            "epoch: 31\n",
            "epoch: 32\n",
            "epoch: 33\n",
            "epoch: 34\n",
            "epoch: 35\n",
            "epoch: 36\n",
            "epoch: 37\n",
            "epoch: 38\n",
            "epoch: 39\n",
            "epoch: 40\n",
            "epoch: 43\n",
            "epoch: 44\n",
            "epoch: 45\n",
            "epoch: 46\n",
            "epoch: 47\n",
            "epoch: 48\n",
            "epoch: 49\n",
            "epoch: 50\n",
            "epoch: 51\n",
            "epoch: 52\n",
            "epoch: 53\n",
            "epoch: 54\n",
            "epoch: 55\n",
            "epoch: 56\n",
            "epoch: 57\n",
            "epoch: 58\n",
            "epoch: 59\n",
            "epoch: 60\n",
            "epoch: 61\n",
            "epoch: 62\n",
            "epoch: 63\n",
            "epoch: 64\n",
            "epoch: 65\n",
            "epoch: 66\n",
            "epoch: 67\n",
            "epoch: 68\n",
            "epoch: 69\n",
            "epoch: 70\n",
            "epoch: 71\n",
            "epoch: 72\n",
            "epoch: 73\n",
            "epoch: 74\n",
            "epoch: 75\n",
            "epoch: 76\n",
            "epoch: 77\n",
            "epoch: 78\n",
            "epoch: 79\n",
            "epoch: 80\n",
            "epoch: 81\n",
            "epoch: 82\n",
            "epoch: 83\n",
            "epoch: 84\n",
            "epoch: 85\n",
            "epoch: 86\n",
            "epoch: 87\n",
            "epoch: 88\n",
            "epoch: 89\n",
            "epoch: 90\n",
            "epoch: 91\n",
            "epoch: 92\n",
            "epoch: 93\n",
            "epoch: 94\n",
            "epoch: 96\n",
            "epoch: 97\n",
            "epoch: 98\n",
            "epoch: 99\n",
            "epoch: 100\n",
            "epoch: 101\n",
            "epoch: 103\n",
            "epoch: 104\n",
            "epoch: 105\n",
            "epoch: 106\n",
            "epoch: 107\n",
            "epoch: 108\n",
            "epoch: 109\n",
            "epoch: 110\n",
            "epoch: 112\n",
            "epoch: 130\n",
            "epoch: 131\n",
            "epoch: 134\n",
            "epoch: 137\n",
            "epoch: 138\n",
            "epoch: 140\n",
            "epoch: 141\n",
            "epoch: 142\n",
            "epoch: 143\n",
            "epoch: 146\n",
            "epoch: 147\n",
            "epoch: 152\n",
            "epoch: 153\n",
            "epoch: 154\n",
            "epoch: 155\n",
            "epoch: 156\n",
            "epoch: 157\n",
            "epoch: 159\n",
            "epoch: 162\n",
            "epoch: 165\n",
            "epoch: 176\n",
            "epoch: 185\n",
            "epoch: 187\n",
            "epoch: 190\n",
            "epoch: 191\n",
            "epoch: 192\n",
            "epoch: 205\n"
          ],
          "name": "stdout"
        }
      ]
    },
    {
      "cell_type": "code",
      "metadata": {
        "id": "K9jgYe3PMh10",
        "colab_type": "code",
        "colab": {}
      },
      "source": [
        "fd.download('history.zip')"
      ],
      "execution_count": 0,
      "outputs": []
    }
  ]
}
